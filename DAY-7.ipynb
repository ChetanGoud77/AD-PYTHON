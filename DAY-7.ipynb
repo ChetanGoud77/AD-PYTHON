{
 "cells": [
  {
   "cell_type": "markdown",
   "id": "9d39f95f-0ea2-4c2a-bc35-5564ad0dfeb4",
   "metadata": {},
   "source": [
    "# For Loop"
   ]
  },
  {
   "cell_type": "markdown",
   "id": "fbc09c5c-18e4-4909-91a2-8cc9ffdba43c",
   "metadata": {},
   "source": [
    "WHILE"
   ]
  },
  {
   "cell_type": "code",
   "execution_count": 3,
   "id": "cd789b7b-175e-4977-8f03-f99bbc6d06d8",
   "metadata": {},
   "outputs": [
    {
     "name": "stdout",
     "output_type": "stream",
     "text": [
      "data\n"
     ]
    }
   ],
   "source": [
    "print('data')"
   ]
  },
  {
   "cell_type": "code",
   "execution_count": 1,
   "id": "70c0c295-5f2e-46f7-aa68-9a16e6e1ff67",
   "metadata": {},
   "outputs": [],
   "source": [
    "x=5\n",
    "while x>10:\n",
    "    print('yes')"
   ]
  },
  {
   "cell_type": "code",
   "execution_count": 3,
   "id": "bcf5d5c7-a157-4033-b162-ae7197d407ed",
   "metadata": {},
   "outputs": [
    {
     "data": {
      "text/plain": [
       "5"
      ]
     },
     "execution_count": 3,
     "metadata": {},
     "output_type": "execute_result"
    }
   ],
   "source": [
    "x"
   ]
  },
  {
   "cell_type": "code",
   "execution_count": 5,
   "id": "106e4850-a592-4a47-ac8b-4d07f9f95789",
   "metadata": {},
   "outputs": [
    {
     "name": "stdout",
     "output_type": "stream",
     "text": [
      "Yes 5\n",
      "Yes 6\n",
      "Yes 7\n",
      "Yes 8\n",
      "Yes 9\n"
     ]
    }
   ],
   "source": [
    "x=5\n",
    "while x<10:\n",
    "    print('Yes',x)\n",
    "    x=x+1"
   ]
  },
  {
   "cell_type": "code",
   "execution_count": 7,
   "id": "2b30b871-4413-48af-a24c-e4149a3ec0f6",
   "metadata": {},
   "outputs": [],
   "source": [
    "y=[3,44,5,7,8,99]"
   ]
  },
  {
   "cell_type": "code",
   "execution_count": 9,
   "id": "245723cc-ec37-4808-a50a-af2780086a7a",
   "metadata": {},
   "outputs": [
    {
     "data": {
      "text/plain": [
       "[3, 44, 5, 7, 8, 99]"
      ]
     },
     "execution_count": 9,
     "metadata": {},
     "output_type": "execute_result"
    }
   ],
   "source": [
    "y"
   ]
  },
  {
   "cell_type": "code",
   "execution_count": 11,
   "id": "abe744d9-b549-4420-8a51-bc40cbabab42",
   "metadata": {},
   "outputs": [
    {
     "name": "stdout",
     "output_type": "stream",
     "text": [
      "207\n",
      "3036\n",
      "345\n",
      "483\n",
      "552\n",
      "6831\n"
     ]
    }
   ],
   "source": [
    "for t in y:\n",
    "    print(t*69)"
   ]
  },
  {
   "cell_type": "code",
   "execution_count": 17,
   "id": "a4a84795-48e9-42df-8aca-25014f805a25",
   "metadata": {},
   "outputs": [
    {
     "name": "stdout",
     "output_type": "stream",
     "text": [
      "217\n",
      "3046\n",
      "355\n",
      "493\n",
      "562\n",
      "6841\n"
     ]
    }
   ],
   "source": [
    "for t in y:\n",
    "    print(t*69+10)"
   ]
  },
  {
   "cell_type": "code",
   "execution_count": 21,
   "id": "ae95d6a1-af0a-42c3-a9e8-a906ce3e8a5f",
   "metadata": {},
   "outputs": [
    {
     "name": "stdout",
     "output_type": "stream",
     "text": [
      "[217, 3046, 355, 493, 562, 6841]\n"
     ]
    }
   ],
   "source": [
    "y = [3, 44, 5, 7, 8, 99]\n",
    "result = [t * 69 + 10 for t in y]\n",
    "print(result)"
   ]
  },
  {
   "cell_type": "code",
   "execution_count": 23,
   "id": "be63f81e-11b6-43ff-aaaa-bfca5aaee18c",
   "metadata": {},
   "outputs": [
    {
     "data": {
      "text/plain": [
       "[55, 89, 62, 78, 91, 90, 78]"
      ]
     },
     "execution_count": 23,
     "metadata": {},
     "output_type": "execute_result"
    }
   ],
   "source": [
    "num=[55,89,62,78,91,90,78]\n",
    "num"
   ]
  },
  {
   "cell_type": "code",
   "execution_count": 27,
   "id": "2d0d2068-45cb-4e3d-8ee2-eecc2110b55c",
   "metadata": {},
   "outputs": [],
   "source": [
    "num = [55, 89, 62, 78, 91, 90, 78]\n",
    "odd_numbers = [n for n in num if n % 2 != 0]\n",
    "even_numbers = [n for n in num if n % 2 == 0]"
   ]
  },
  {
   "cell_type": "code",
   "execution_count": 33,
   "id": "418ecd1a-8ab2-453a-b10a-3323df673e5b",
   "metadata": {},
   "outputs": [
    {
     "data": {
      "text/plain": [
       "[55, 89, 91]"
      ]
     },
     "execution_count": 33,
     "metadata": {},
     "output_type": "execute_result"
    }
   ],
   "source": [
    "odd_numbers"
   ]
  },
  {
   "cell_type": "code",
   "execution_count": 37,
   "id": "6464d537-d35a-47e1-b030-858346e64ca4",
   "metadata": {},
   "outputs": [
    {
     "data": {
      "text/plain": [
       "[62, 78, 90, 78]"
      ]
     },
     "execution_count": 37,
     "metadata": {},
     "output_type": "execute_result"
    }
   ],
   "source": [
    "even_numbers"
   ]
  },
  {
   "cell_type": "code",
   "execution_count": 39,
   "id": "0897d487-b329-468d-aad2-fac40ab14ffd",
   "metadata": {},
   "outputs": [
    {
     "data": {
      "text/plain": [
       "[55, 89, 62, 78, 91, 90, 78]"
      ]
     },
     "execution_count": 39,
     "metadata": {},
     "output_type": "execute_result"
    }
   ],
   "source": [
    "num"
   ]
  },
  {
   "cell_type": "code",
   "execution_count": 43,
   "id": "a3d7a1b2-d35e-43df-9cd5-f7bb7d6bb460",
   "metadata": {},
   "outputs": [
    {
     "name": "stdout",
     "output_type": "stream",
     "text": [
      "['55', '8X', '62', '78', 'X1', 'X0', '78']\n"
     ]
    }
   ],
   "source": [
    "h = []\n",
    "num = [55, 89, 62, 78, 91, 90, 78]\n",
    "for i in num:\n",
    "    a = str(i)\n",
    "    b = a.replace('9', 'X')\n",
    "    h.append(b)\n",
    "print(h)\n"
   ]
  },
  {
   "cell_type": "code",
   "execution_count": null,
   "id": "bf32f970-4744-4c2e-a24a-c95bdb433110",
   "metadata": {},
   "outputs": [],
   "source": []
  }
 ],
 "metadata": {
  "kernelspec": {
   "display_name": "Python [conda env:base] *",
   "language": "python",
   "name": "conda-base-py"
  },
  "language_info": {
   "codemirror_mode": {
    "name": "ipython",
    "version": 3
   },
   "file_extension": ".py",
   "mimetype": "text/x-python",
   "name": "python",
   "nbconvert_exporter": "python",
   "pygments_lexer": "ipython3",
   "version": "3.12.7"
  }
 },
 "nbformat": 4,
 "nbformat_minor": 5
}
