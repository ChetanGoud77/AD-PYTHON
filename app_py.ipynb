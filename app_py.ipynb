{
  "nbformat": 4,
  "nbformat_minor": 0,
  "metadata": {
    "colab": {
      "provenance": [],
      "authorship_tag": "ABX9TyNaCuk/4q41ShCvhHtIsVEn",
      "include_colab_link": true
    },
    "kernelspec": {
      "name": "python3",
      "display_name": "Python 3"
    },
    "language_info": {
      "name": "python"
    }
  },
  "cells": [
    {
      "cell_type": "markdown",
      "metadata": {
        "id": "view-in-github",
        "colab_type": "text"
      },
      "source": [
        "<a href=\"https://colab.research.google.com/github/ChetanGoud77/AD-PYTHON/blob/main/app_py.ipynb\" target=\"_parent\"><img src=\"https://colab.research.google.com/assets/colab-badge.svg\" alt=\"Open In Colab\"/></a>"
      ]
    },
    {
      "cell_type": "code",
      "source": [
        "#load the trained model\n",
        "model = joblib.load('model.pkl')\n",
        "\n",
        "@app.route('/')\n",
        "def home():\n",
        "    return \"Welcome to the ML model API!\"\n",
        "\n",
        "@app.route('/predict', methods=['POST'])\n",
        "def predict():\n",
        "    data = request.get_json()\n",
        "    features = np.array(data['features']).reshape(1, -1)\n",
        "    prediction = model.predict(features)\n",
        "    return jsonify({'prediction': prediction.tolist()})\n",
        "\n",
        "if __name__ == '__main__':\n",
        "    app.run(debug=True, port=5001)"
      ],
      "metadata": {
        "id": "ej35vEbQLkF6"
      },
      "execution_count": null,
      "outputs": []
    },
    {
      "cell_type": "code",
      "source": [
        "url = \"http://127.0.0.1:5001/predict\"\n",
        "data = {\"features\": [6, 148, 72, 35, 0, 33.6, 0.627, 50]}\n",
        "response = requests.post(url, json=data)\n",
        "print(response.json()) #Output:{'prediction':1}"
      ],
      "metadata": {
        "id": "IdCN2RbWMIaM"
      },
      "execution_count": null,
      "outputs": []
    }
  ]
}